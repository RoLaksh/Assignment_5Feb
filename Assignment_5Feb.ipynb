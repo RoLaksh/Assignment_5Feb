{
 "cells": [
  {
   "cell_type": "markdown",
   "id": "d242b5f0-6824-4983-9a69-f474d78153b3",
   "metadata": {},
   "source": [
    "Q1. Explain Class and Object with respect to Object-Oriented Programming. Give a suitable example."
   ]
  },
  {
   "cell_type": "markdown",
   "id": "c8715959-087f-4b3c-9c73-834d13364af9",
   "metadata": {},
   "source": [
    "Answer =>\n",
    "1>Class:\n",
    "A class is a blueprint or template for creating objects. It defines the properties (attributes) and behaviors (methods) that the objects of that class will have.\n",
    "Think of a class as a recipe for baking cookies. It describes what ingredients (attributes) are needed and how to mix them (methods) to create delicious cookies."
   ]
  },
  {
   "cell_type": "code",
   "execution_count": 3,
   "id": "eb6a3af5-e444-45e1-9771-001f1547f4ee",
   "metadata": {},
   "outputs": [],
   "source": [
    "#For example:\n",
    "class Dog:\n",
    "    def __init__(self, name, breed):\n",
    "        self.name = name\n",
    "        self.breed = breed\n",
    "\n",
    "    def bark(self):\n",
    "        print(f\"{self.name} says woof!\")\n",
    "\n",
    "# Creating an instance (object) of the Dog class\n",
    "my_dog = Dog(name=\"Buddy\", breed=\"Golden Retriever\")\n"
   ]
  },
  {
   "cell_type": "markdown",
   "id": "937649fe-dfc9-494f-b0e7-6e7f87e258ad",
   "metadata": {},
   "source": [
    "2>Object:\n",
    "An object is an instance of a class. It is a concrete realization of the class blueprint.\n",
    "Continuing with our cookie analogy, an object would be an actual batch of cookies baked using the recipe."
   ]
  },
  {
   "cell_type": "code",
   "execution_count": 5,
   "id": "5a2c019a-7924-424c-8583-8c5543bc163b",
   "metadata": {},
   "outputs": [
    {
     "name": "stdout",
     "output_type": "stream",
     "text": [
      "My dog's name is Buddy.\n",
      "Buddy says woof!\n"
     ]
    }
   ],
   "source": [
    "#For example:\n",
    "# Accessing attributes and methods of the my_dog object\n",
    "print(f\"My dog's name is {my_dog.name}.\")\n",
    "my_dog.bark()"
   ]
  },
  {
   "cell_type": "markdown",
   "id": "1c7730df-7bf4-4ec0-90d8-361a772f2454",
   "metadata": {},
   "source": [
    "3>Example:\n",
    "Let’s consider a more practical example. Suppose we want to model a Bank Account:\n",
    "The class BankAccount would define attributes like account_number, balance, and methods like deposit, withdraw, and get_balance.\n",
    "An object of this class would represent an individual bank account with specific details."
   ]
  },
  {
   "cell_type": "code",
   "execution_count": 6,
   "id": "fe3c2bfd-66f1-4155-b21b-ed804da9c1e8",
   "metadata": {},
   "outputs": [
    {
     "name": "stdout",
     "output_type": "stream",
     "text": [
      "Account balance: $1300\n"
     ]
    }
   ],
   "source": [
    "class BankAccount:\n",
    "    def __init__(self, account_number, initial_balance):\n",
    "        self.account_number = account_number\n",
    "        self.balance = initial_balance\n",
    "\n",
    "    def deposit(self, amount):\n",
    "        self.balance += amount\n",
    "\n",
    "    def withdraw(self, amount):\n",
    "        if amount <= self.balance:\n",
    "            self.balance -= amount\n",
    "        else:\n",
    "            print(\"Insufficient funds!\")\n",
    "\n",
    "    def get_balance(self):\n",
    "        return self.balance\n",
    "\n",
    "# Creating an account object\n",
    "my_account = BankAccount(account_number=\"123456\", initial_balance=1000)\n",
    "\n",
    "# Depositing and withdrawing\n",
    "my_account.deposit(500)\n",
    "my_account.withdraw(200)\n",
    "\n",
    "# Checking balance\n",
    "print(f\"Account balance: ${my_account.get_balance()}\")\n"
   ]
  },
  {
   "cell_type": "markdown",
   "id": "0a091a63-982e-4db3-860d-f3ca956250ff",
   "metadata": {},
   "source": [
    "Q2. Name the four pillars of OOPs."
   ]
  },
  {
   "cell_type": "markdown",
   "id": "341a7c4c-0e02-42d7-96c0-49e8928f4bf2",
   "metadata": {},
   "source": [
    "Answer = >\n",
    "Encapsulation,\n",
    "Abstraction,\n",
    "Inheritance,\n",
    "Polymorphism."
   ]
  },
  {
   "cell_type": "markdown",
   "id": "5b222faa-4012-46a5-84ec-0cd3807cd66f",
   "metadata": {},
   "source": [
    "Q3. Explain why the __init__() function is used. Give a suitable example."
   ]
  },
  {
   "cell_type": "markdown",
   "id": "b93818bf-4c04-40dc-a49f-0c02db37a74a",
   "metadata": {},
   "source": [
    "Answer =>\n",
    "Purpose of __init__():\n",
    "The __init__() method is automatically called when an object (instance) of a class is created.\n",
    "Its primary purpose is to initialize the attributes (data members) of the object.\n",
    "You can think of it as the setup phase for an object, where you assign initial values to its properties."
   ]
  },
  {
   "cell_type": "code",
   "execution_count": 9,
   "id": "e36146e7-3f93-42f9-b751-9a613bfbdc41",
   "metadata": {},
   "outputs": [
    {
     "name": "stdout",
     "output_type": "stream",
     "text": [
      "Hi, I'm John and I'm 30 years old.\n"
     ]
    }
   ],
   "source": [
    "#Example: Let’s create a simple Person class with attributes like name and age. We’ll use the __init__() method to set these attributes when a new person object is instantiated:\n",
    "class Person:\n",
    "    def __init__(self, name, age):\n",
    "        # Initialize attributes\n",
    "        self.name = name\n",
    "        self.age = age\n",
    "\n",
    "    def introduce(self):\n",
    "        print(f\"Hi, I'm {self.name} and I'm {self.age} years old.\")\n",
    "\n",
    "# Creating a person object\n",
    "john = Person(name=\"John\", age=30)\n",
    "\n",
    "# Accessing attributes and calling methods\n",
    "john.introduce()\n"
   ]
  },
  {
   "cell_type": "markdown",
   "id": "2d08c052-73c5-4e26-abc8-3f75c779c077",
   "metadata": {},
   "source": [
    "In this example:\n",
    "The __init__() method takes two parameters: name and age.\n",
    "When we create a Person object (john), the __init__() method is automatically called with the provided arguments.\n",
    "Inside __init__(), we set the name and age attributes for the john object.\n",
    "The introduce() method prints a personalized introduction using the object’s attributes."
   ]
  },
  {
   "cell_type": "markdown",
   "id": "99d79677-9264-47ae-bc04-7f833b3ea94d",
   "metadata": {},
   "source": [
    "Q4. Why self is used in OOPs?"
   ]
  },
  {
   "cell_type": "markdown",
   "id": "e6992b99-f396-4755-96a1-dbff952e60d3",
   "metadata": {},
   "source": [
    "Answer = >\n",
    "Reference to the Current Object:\n",
    "self refers to the current instance of a class.\n",
    "When you create an object (instance) of a class, self allows you to access and manipulate the object’s attributes and methods.\n",
    "It acts as a reference to the object itself.\n",
    "Attributes and Methods:\n",
    "Inside a class, you define attributes (data members) and methods (functions).\n",
    "To access an attribute or call a method within the class, you use self.\n"
   ]
  },
  {
   "cell_type": "markdown",
   "id": "f93094f7-5b47-4de9-af72-c03b4f8695b3",
   "metadata": {},
   "source": [
    "Instance-Specific Data:\n",
    "Each object has its own set of attributes (unique data).\n",
    "self ensures that the correct object’s data is accessed.\n",
    "Without self, Python wouldn’t know which object’s attribute or method to refer to."
   ]
  },
  {
   "cell_type": "markdown",
   "id": "258555b7-4ed0-4ca1-a38f-b14529f3a827",
   "metadata": {},
   "source": [
    "Multiple Objects: Each object has its own name attribute, and self ensures that the correct name is associated with the respective object."
   ]
  },
  {
   "cell_type": "markdown",
   "id": "001d6047-471c-41ed-8ce8-2accddc2965a",
   "metadata": {},
   "source": [
    "In Summary:\n",
    "self is a convention (not a keyword) used in Python to represent the instance itself.\n",
    "It helps maintain encapsulation, allowing objects to store and manage their own data independently."
   ]
  },
  {
   "cell_type": "markdown",
   "id": "8bf9a64f-52e8-468f-8ef6-8ad15ebbf35f",
   "metadata": {},
   "source": [
    "Q5. What is inheritance? Give an example for each type of inheritance."
   ]
  },
  {
   "cell_type": "markdown",
   "id": "8a797871-53cc-4112-b533-509ce9a4c80b",
   "metadata": {},
   "source": [
    "Answer =>\n",
    "1>Single Inheritance:\n",
    "In single inheritance, a subclass inherits from a single base class."
   ]
  },
  {
   "cell_type": "code",
   "execution_count": 11,
   "id": "fdb81dcc-fcc7-430a-a690-45015479694f",
   "metadata": {},
   "outputs": [
    {
     "name": "stdout",
     "output_type": "stream",
     "text": [
      "Animal speaks\n",
      "Dog barks\n"
     ]
    }
   ],
   "source": [
    "#Example :\n",
    "class Animal:\n",
    "    def speak(self):\n",
    "        print(\"Animal speaks\")\n",
    "\n",
    "class Dog(Animal):\n",
    "    def bark(self):\n",
    "        print(\"Dog barks\")\n",
    "\n",
    "# Creating a Dog object\n",
    "my_dog = Dog()\n",
    "my_dog.speak()  # Inherited from Animal\n",
    "my_dog.bark()   # Dog-specific method\n"
   ]
  },
  {
   "cell_type": "markdown",
   "id": "776e4762-c428-45b0-af8c-10dc1f01a386",
   "metadata": {},
   "source": [
    "2>Multiple Inheritance:\n",
    "In multiple inheritance, a subclass inherits from multiple base classes."
   ]
  },
  {
   "cell_type": "code",
   "execution_count": 13,
   "id": "3b1dd157-27fc-4645-a3a5-eef49310bb53",
   "metadata": {},
   "outputs": [
    {
     "name": "stdout",
     "output_type": "stream",
     "text": [
      "Bird flies\n",
      "Mammal walks\n",
      "Bat uses echolocation\n"
     ]
    }
   ],
   "source": [
    "#Example:\n",
    "class Bird:\n",
    "    def fly(self):\n",
    "        print(\"Bird flies\")\n",
    "\n",
    "class Mammal:\n",
    "    def walk(self):\n",
    "        print(\"Mammal walks\")\n",
    "\n",
    "class Bat(Bird, Mammal):\n",
    "    def echo_location(self):\n",
    "        print(\"Bat uses echolocation\")\n",
    "\n",
    "# Creating a Bat object\n",
    "my_bat = Bat()\n",
    "my_bat.fly()        # Inherited from Bird\n",
    "my_bat.walk()       # Inherited from Mammal\n",
    "my_bat.echo_location()  # Bat-specific method\n"
   ]
  },
  {
   "cell_type": "markdown",
   "id": "48e441f6-7d24-4a7e-b842-ad981c793f9b",
   "metadata": {},
   "source": [
    "3>Multilevel Inheritance:\n",
    "In multilevel inheritance, a subclass inherits from another subclass."
   ]
  },
  {
   "cell_type": "code",
   "execution_count": 15,
   "id": "b1739da9-c644-4fce-a405-d6c5f38b1da9",
   "metadata": {},
   "outputs": [
    {
     "name": "stdout",
     "output_type": "stream",
     "text": [
      "Vehicle engine started\n",
      "Car is driving\n",
      "Electric car is charging\n"
     ]
    }
   ],
   "source": [
    "#Example:\n",
    "class Vehicle:\n",
    "    def start_engine(self):\n",
    "        print(\"Vehicle engine started\")\n",
    "\n",
    "class Car(Vehicle):\n",
    "    def drive(self):\n",
    "        print(\"Car is driving\")\n",
    "\n",
    "class ElectricCar(Car):\n",
    "    def charge(self):\n",
    "        print(\"Electric car is charging\")\n",
    "\n",
    "# Creating an ElectricCar object\n",
    "my_electric_car = ElectricCar()\n",
    "my_electric_car.start_engine()  # Inherited from Vehicle\n",
    "my_electric_car.drive()        # Inherited from Car\n",
    "my_electric_car.charge()       # ElectricCar-specific method\n"
   ]
  },
  {
   "cell_type": "markdown",
   "id": "b41e3b9c-cfa3-45a6-84be-bbd95b4f35c9",
   "metadata": {},
   "source": [
    "4>Hierarchical Inheritance:\n",
    "In hierarchical inheritance, multiple subclasses inherit from a single base class."
   ]
  },
  {
   "cell_type": "code",
   "execution_count": 16,
   "id": "dbf24ae3-2e13-4cc3-88bb-0d6beec08544",
   "metadata": {},
   "outputs": [
    {
     "name": "stdout",
     "output_type": "stream",
     "text": [
      "Calculating area\n",
      "Drawing a circle\n",
      "Calculating area\n",
      "Drawing a rectangle\n"
     ]
    }
   ],
   "source": [
    "#Example:\n",
    "class Shape:\n",
    "    def area(self):\n",
    "        print(\"Calculating area\")\n",
    "\n",
    "class Circle(Shape):\n",
    "    def draw(self):\n",
    "        print(\"Drawing a circle\")\n",
    "\n",
    "class Rectangle(Shape):\n",
    "    def draw(self):\n",
    "        print(\"Drawing a rectangle\")\n",
    "\n",
    "# Creating Circle and Rectangle objects\n",
    "my_circle = Circle()\n",
    "my_rectangle = Rectangle()\n",
    "\n",
    "my_circle.area()     # Inherited from Shape\n",
    "my_circle.draw()     # Circle-specific method\n",
    "\n",
    "my_rectangle.area()  # Inherited from Shape\n",
    "my_rectangle.draw()  # Rectangle-specific method\n"
   ]
  },
  {
   "cell_type": "code",
   "execution_count": null,
   "id": "020c70c8-45c3-4419-9e81-28146451806a",
   "metadata": {},
   "outputs": [],
   "source": []
  }
 ],
 "metadata": {
  "kernelspec": {
   "display_name": "Python 3 (ipykernel)",
   "language": "python",
   "name": "python3"
  },
  "language_info": {
   "codemirror_mode": {
    "name": "ipython",
    "version": 3
   },
   "file_extension": ".py",
   "mimetype": "text/x-python",
   "name": "python",
   "nbconvert_exporter": "python",
   "pygments_lexer": "ipython3",
   "version": "3.10.8"
  }
 },
 "nbformat": 4,
 "nbformat_minor": 5
}
